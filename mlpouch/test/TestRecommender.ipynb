{
 "cells": [
  {
   "cell_type": "code",
   "execution_count": 1,
   "source": [
    "!pip install -e ../../"
   ],
   "outputs": [
    {
     "output_type": "stream",
     "name": "stdout",
     "text": [
      "Obtaining file:///C:/Users/netxph/Projects/mlpouch\n",
      "Installing collected packages: mlpouch\n",
      "  Attempting uninstall: mlpouch\n",
      "    Found existing installation: mlpouch 0.0.1\n",
      "    Uninstalling mlpouch-0.0.1:\n",
      "      Successfully uninstalled mlpouch-0.0.1\n",
      "  Running setup.py develop for mlpouch\n",
      "Successfully installed mlpouch-0.0.1\n"
     ]
    }
   ],
   "metadata": {}
  },
  {
   "cell_type": "code",
   "execution_count": 2,
   "source": [
    "from mlpouch.bundles import Recommender\r\n",
    "import joblib"
   ],
   "outputs": [],
   "metadata": {}
  },
  {
   "cell_type": "code",
   "execution_count": 3,
   "source": [
    "dec = joblib.load(\"models/funk_svd.pkl\")"
   ],
   "outputs": [],
   "metadata": {}
  },
  {
   "cell_type": "code",
   "execution_count": 4,
   "source": [
    "rec = Recommender(recommenders = [dec])"
   ],
   "outputs": [],
   "metadata": {}
  },
  {
   "cell_type": "code",
   "execution_count": 5,
   "source": [
    "user_ids = [8, 46, 48, 51, 66]\r\n",
    "rec.recommend(user_ids)"
   ],
   "outputs": [
    {
     "output_type": "execute_result",
     "data": {
      "text/plain": [
       "[[1255953, 1623205, 54215, 1675434, 1707386],\n",
       " [1255953, 1045658, 1853728, 1675434, 2388725],\n",
       " [1255953, 54215, 108052, 1853728, 421715],\n",
       " [1623205, 1255953, 54215, 1707386, 1675434],\n",
       " [1255953, 1024648, 1045658, 68646, 454876]]"
      ]
     },
     "metadata": {},
     "execution_count": 5
    }
   ],
   "metadata": {}
  }
 ],
 "metadata": {
  "orig_nbformat": 4,
  "language_info": {
   "name": "python",
   "version": "3.9.7",
   "mimetype": "text/x-python",
   "codemirror_mode": {
    "name": "ipython",
    "version": 3
   },
   "pygments_lexer": "ipython3",
   "nbconvert_exporter": "python",
   "file_extension": ".py"
  },
  "kernelspec": {
   "name": "python3",
   "display_name": "Python 3.9.7 64-bit ('mlpouch': conda)"
  },
  "interpreter": {
   "hash": "0c4f5a43ae623a5b8c0e342d2ed9174d689ab7c74bc9aa71ae45b907c39d4eab"
  }
 },
 "nbformat": 4,
 "nbformat_minor": 2
}